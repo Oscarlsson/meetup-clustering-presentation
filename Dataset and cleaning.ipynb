{
 "metadata": {
  "name": "",
  "signature": "sha256:a412bc0a4d582953e5c3f9416816959f53da6d0ad4062c43c74a43ba5639f568"
 },
 "nbformat": 3,
 "nbformat_minor": 0,
 "worksheets": [
  {
   "cells": [
    {
     "cell_type": "heading",
     "level": 1,
     "metadata": {
      "slideshow": {
       "slide_type": "slide"
      }
     },
     "source": [
      "Dataset and cleaning"
     ]
    },
    {
     "cell_type": "code",
     "collapsed": false,
     "input": [
      "import pandas as pd\n",
      "import simplejson as json\n",
      "import os\n",
      "import sys"
     ],
     "language": "python",
     "metadata": {
      "slideshow": {
       "slide_type": "skip"
      }
     },
     "outputs": [],
     "prompt_number": 3
    },
    {
     "cell_type": "code",
     "collapsed": false,
     "input": [
      "def build_dataset(debug=False):\n",
      "    allowed_artists = ['Bob Dylan', \n",
      "                        'Katy Perry',\n",
      "                        'Justin Bieber',\n",
      "                        'Kiss',\n",
      "                        'Aerosmith',\n",
      "                        'Lady Gaga',\n",
      "                        'Led Zeppelin',\n",
      "                        'Madonna',\n",
      "                        'Maroon 5',\n",
      "                        'Red Hot Chili Peppers',\n",
      "                        'Taylor Swift',\n",
      "                        'The Ramones',\n",
      "                        'U2',\n",
      "                        'One Direction']\n",
      "    columns=['artist', 'track', 'lyric']\n",
      "    dt = pd.DataFrame(columns=columns)\n",
      "    artists = os.listdir('crawler/lyricsspider/output')\n",
      "    filtered_artists = filter(lambda artist: artist in allowed_artists, artists)\n",
      "    for artist in filtered_artists:\n",
      "        if artist in allowed_artists:\n",
      "            if debug:\n",
      "                print \"======== ARTIST =======\"\n",
      "                print artist\n",
      "                print \"======== LYRICS =======\"\n",
      "                \n",
      "            lyrics = os.listdir('crawler/lyricsspider/output/%s' % artist)\n",
      "            for lyric_name in lyrics[:10]:\n",
      "                lyric_file = 'crawler/lyricsspider/output/%s/%s' % (artist, lyric_name)\n",
      "                with open(lyric_file) as f:\n",
      "                    lyric = json.load(f)\n",
      "                if debug:\n",
      "                    print \"saving ..\", \n",
      "                    print lyric\n",
      "                \n",
      "                dt.loc[len(dt)+1] = [lyric['artist'], lyric['track'], \" \".join(lyric['lyric'])]\n",
      "            \n",
      "    return dt\n",
      "\n",
      "def data_cleaning(df):\n",
      "    dataset['lyric'] = dataset['lyric'].apply(lambda lyric: re.sub('\\\\n', '', lyric))\n",
      "dataset['lyric'] = dataset['lyric'].apply(lambda lyric: re.sub('\\\\r', '', lyric))\n",
      "\n",
      "\n",
      "    return df\n"
     ],
     "language": "python",
     "metadata": {
      "slideshow": {
       "slide_type": "skip"
      }
     },
     "outputs": [],
     "prompt_number": 4
    },
    {
     "cell_type": "heading",
     "level": 1,
     "metadata": {
      "slideshow": {
       "slide_type": "slide"
      }
     },
     "source": [
      "Loading the dataset"
     ]
    },
    {
     "cell_type": "markdown",
     "metadata": {
      "slideshow": {
       "slide_type": "-"
      }
     },
     "source": [
      "To reduce noise in the notebook i have separated bigger sections of code into modules. Please look at it on github if interested. Everything needed to follow is included in these slides."
     ]
    },
    {
     "cell_type": "code",
     "collapsed": false,
     "input": [
      "dataset = build_dataset(debug=False)"
     ],
     "language": "python",
     "metadata": {},
     "outputs": [],
     "prompt_number": 5
    },
    {
     "cell_type": "code",
     "collapsed": false,
     "input": [
      "dataset.head()"
     ],
     "language": "python",
     "metadata": {
      "slideshow": {
       "slide_type": "fragment"
      }
     },
     "outputs": [
      {
       "html": [
        "<div style=\"max-height:1000px;max-width:1500px;overflow:auto;\">\n",
        "<table border=\"1\" class=\"dataframe\">\n",
        "  <thead>\n",
        "    <tr style=\"text-align: right;\">\n",
        "      <th></th>\n",
        "      <th>artist</th>\n",
        "      <th>track</th>\n",
        "      <th>lyric</th>\n",
        "    </tr>\n",
        "  </thead>\n",
        "  <tbody>\n",
        "    <tr>\n",
        "      <th>1</th>\n",
        "      <td> Led Zeppelin</td>\n",
        "      <td>               Houses Of The Holy Lyrics</td>\n",
        "      <td> Led Zeppelin \\nPhysical Graffiti \\nHouses Of T...</td>\n",
        "    </tr>\n",
        "    <tr>\n",
        "      <th>2</th>\n",
        "      <td> Led Zeppelin</td>\n",
        "      <td> The Song Remains the Same (Live) Lyrics</td>\n",
        "      <td> I had a dream. Crazy dream. \\r\\nAnything I wan...</td>\n",
        "    </tr>\n",
        "    <tr>\n",
        "      <th>3</th>\n",
        "      <td> Led Zeppelin</td>\n",
        "      <td>                        Ramble On Lyrics</td>\n",
        "      <td> Leaves are falling all around* \\nIt's time I w...</td>\n",
        "    </tr>\n",
        "    <tr>\n",
        "      <th>4</th>\n",
        "      <td> Led Zeppelin</td>\n",
        "      <td>                    Rock and Roll Lyrics</td>\n",
        "      <td> It's been a long time since I rock and rolled ...</td>\n",
        "    </tr>\n",
        "    <tr>\n",
        "      <th>5</th>\n",
        "      <td> Led Zeppelin</td>\n",
        "      <td>                   Somethin' Else Lyrics</td>\n",
        "      <td> Hey, look here, what's all this? \\nThere's a c...</td>\n",
        "    </tr>\n",
        "  </tbody>\n",
        "</table>\n",
        "</div>"
       ],
       "metadata": {},
       "output_type": "pyout",
       "prompt_number": 6,
       "text": [
        "         artist                                    track  \\\n",
        "1  Led Zeppelin                Houses Of The Holy Lyrics   \n",
        "2  Led Zeppelin  The Song Remains the Same (Live) Lyrics   \n",
        "3  Led Zeppelin                         Ramble On Lyrics   \n",
        "4  Led Zeppelin                     Rock and Roll Lyrics   \n",
        "5  Led Zeppelin                    Somethin' Else Lyrics   \n",
        "\n",
        "                                               lyric  \n",
        "1  Led Zeppelin \\nPhysical Graffiti \\nHouses Of T...  \n",
        "2  I had a dream. Crazy dream. \\r\\nAnything I wan...  \n",
        "3  Leaves are falling all around* \\nIt's time I w...  \n",
        "4  It's been a long time since I rock and rolled ...  \n",
        "5  Hey, look here, what's all this? \\nThere's a c...  "
       ]
      }
     ],
     "prompt_number": 6
    },
    {
     "cell_type": "heading",
     "level": 1,
     "metadata": {
      "slideshow": {
       "slide_type": "slide"
      }
     },
     "source": [
      "Data cleaning"
     ]
    },
    {
     "cell_type": "markdown",
     "metadata": {
      "slideshow": {
       "slide_type": "fragment"
      }
     },
     "source": [
      "As we can see in the above dataset, our data includes has some irrelevant information.\n",
      "All lyrics names are followed by \" Lyrics\"\n",
      "The lyrics still have the escape sequences and other things which would confuse the model."
     ]
    },
    {
     "cell_type": "heading",
     "level": 6,
     "metadata": {
      "slideshow": {
       "slide_type": "slide"
      }
     },
     "source": [
      "Removing the new lines:"
     ]
    },
    {
     "cell_type": "code",
     "collapsed": false,
     "input": [
      "dataset.loc[1].lyric"
     ],
     "language": "python",
     "metadata": {
      "slideshow": {
       "slide_type": "fragment"
      }
     },
     "outputs": [
      {
       "metadata": {},
       "output_type": "pyout",
       "prompt_number": 137,
       "text": [
        "\"Led Zeppelin \\nPhysical Graffiti \\nHouses Of The Holy \\nLet me take you to the movies \\r\\nCan I take you to the show \\r\\nLet me be yours ever truly \\r\\nCan I make your garden grow \\r\\nFrom the houses of the holy \\r\\nWe can watch the white doves go \\r\\nFrom the door comes Satan's daughter \\r\\nAnd it only goes to show \\r\\nAh, you know \\r\\nThere's an angel on my shoulder \\r\\nIn my hand a sword of gold \\r\\nLet me wander in your garden \\r\\nAnd the seeds of love I'll sow \\r\\nYou know-whoa-oh \\r\\nSo the world is spinning faster \\r\\nAre you dizzy when you're stoned \\r\\nLet the music be your master \\r\\nWill you heed the master's call \\r\\nOh-whoa-oh, Satan an' man \\r\\nSaid there ain't no use in cryin' \\r\\n'Cause it will only, only drive you mad \\r\\nDoes it hurt to hear them lyin' \\r\\nWas this the only world you had \\r\\nOh-oh \\r\\nSo let me take you, take you to the movie \\r\\nCan I take you, baby, to the show \\r\\nWhy don't you let me be yours ever truly \\r\\nCan I make your garden grow \\r\\nYou know-whoa, that's right\""
       ]
      }
     ],
     "prompt_number": 137
    },
    {
     "cell_type": "code",
     "collapsed": false,
     "input": [
      "dataset['lyric'] = dataset['lyric'].apply(lambda lyric: re.sub('\\\\n', '', lyric))\n",
      "dataset['lyric'] = dataset['lyric'].apply(lambda lyric: re.sub('\\\\r', '', lyric))"
     ],
     "language": "python",
     "metadata": {},
     "outputs": [],
     "prompt_number": 138
    },
    {
     "cell_type": "code",
     "collapsed": false,
     "input": [
      "dataset.loc[1].lyric"
     ],
     "language": "python",
     "metadata": {},
     "outputs": [
      {
       "metadata": {},
       "output_type": "pyout",
       "prompt_number": 139,
       "text": [
        "\"Led Zeppelin Physical Graffiti Houses Of The Holy Let me take you to the movies Can I take you to the show Let me be yours ever truly Can I make your garden grow From the houses of the holy We can watch the white doves go From the door comes Satan's daughter And it only goes to show Ah, you know There's an angel on my shoulder In my hand a sword of gold Let me wander in your garden And the seeds of love I'll sow You know-whoa-oh So the world is spinning faster Are you dizzy when you're stoned Let the music be your master Will you heed the master's call Oh-whoa-oh, Satan an' man Said there ain't no use in cryin' 'Cause it will only, only drive you mad Does it hurt to hear them lyin' Was this the only world you had Oh-oh So let me take you, take you to the movie Can I take you, baby, to the show Why don't you let me be yours ever truly Can I make your garden grow You know-whoa, that's right\""
       ]
      }
     ],
     "prompt_number": 139
    },
    {
     "cell_type": "heading",
     "level": 6,
     "metadata": {},
     "source": [
      "Removing the [words] and (words):"
     ]
    },
    {
     "cell_type": "code",
     "collapsed": false,
     "input": [
      "dataset.loc[111].lyric"
     ],
     "language": "python",
     "metadata": {},
     "outputs": [
      {
       "metadata": {},
       "output_type": "pyout",
       "prompt_number": 140,
       "text": [
        "\"[** feat. Usher:]   [Justin Bieber:] Chestnuts roasting on an open fire Jack Frost nipping at your nose (Yeah) Yuletide carols being sung by a choir And folks dressed up like Eskimos  [Justin Bieber:] Everybody knows a turkey and some mistletoe Help to make the season bright Tiny tots with their eyes all aglow Will find it hard to sleep tonight  [Usher:] They know that Santa's on his way He's loaded lots of toys and many goodies on his sleigh [Both:] And every mother's child is gonna spy To see if reindeer really know how to fly  [Both:] And so, I'm offering this simple phrase To kids from one to ninety-two Although it's been said many times, many ways Merry Christmas to you  [Both:] (Yeah) And so, I'm offering this simple phrase (oh wooah) To kids from one to ninety-two (Yeah, yeah) Although it's been said, many times, many ways Merry Christmas, Merry Christmas (Yeah), Merry Christmas (Oh No) Merry Christmas to you! \""
       ]
      }
     ],
     "prompt_number": 140
    },
    {
     "cell_type": "code",
     "collapsed": false,
     "input": [
      "dataset['lyric'] = dataset['lyric'].apply(lambda lyric: re.sub('.?\\[.*?\\] | \\(.*?\\)', '', lyric))"
     ],
     "language": "python",
     "metadata": {},
     "outputs": [],
     "prompt_number": 143
    },
    {
     "cell_type": "code",
     "collapsed": false,
     "input": [
      "dataset.loc[111].lyric"
     ],
     "language": "python",
     "metadata": {},
     "outputs": [
      {
       "metadata": {},
       "output_type": "pyout",
       "prompt_number": 144,
       "text": [
        "\" Chestnuts roasting on an open fire Jack Frost nipping at your nose Yuletide carols being sung by a choir And folks dressed up like Eskimos Everybody knows a turkey and some mistletoe Help to make the season bright Tiny tots with their eyes all aglow Will find it hard to sleep tonight They know that Santa's on his way He's loaded lots of toys and many goodies on his sleighAnd every mother's child is gonna spy To see if reindeer really know how to fly And so, I'm offering this simple phrase To kids from one to ninety-two Although it's been said many times, many ways Merry Christmas to you And so, I'm offering this simple phrase To kids from one to ninety-two Although it's been said, many times, many ways Merry Christmas, Merry Christmas, Merry Christmas Merry Christmas to you! \""
       ]
      }
     ],
     "prompt_number": 144
    },
    {
     "cell_type": "heading",
     "level": 6,
     "metadata": {},
     "source": [
      "Lowering all charachters:"
     ]
    },
    {
     "cell_type": "code",
     "collapsed": false,
     "input": [
      "dataset['lyric'] = dataset['lyric'].apply(lambda lyric: lyric.lower())"
     ],
     "language": "python",
     "metadata": {},
     "outputs": [],
     "prompt_number": 145
    },
    {
     "cell_type": "code",
     "collapsed": false,
     "input": [
      "dataset.loc[111].lyric"
     ],
     "language": "python",
     "metadata": {},
     "outputs": [
      {
       "metadata": {},
       "output_type": "pyout",
       "prompt_number": 146,
       "text": [
        "\" chestnuts roasting on an open fire jack frost nipping at your nose yuletide carols being sung by a choir and folks dressed up like eskimos everybody knows a turkey and some mistletoe help to make the season bright tiny tots with their eyes all aglow will find it hard to sleep tonight they know that santa's on his way he's loaded lots of toys and many goodies on his sleighand every mother's child is gonna spy to see if reindeer really know how to fly and so, i'm offering this simple phrase to kids from one to ninety-two although it's been said many times, many ways merry christmas to you and so, i'm offering this simple phrase to kids from one to ninety-two although it's been said, many times, many ways merry christmas, merry christmas, merry christmas merry christmas to you! \""
       ]
      }
     ],
     "prompt_number": 146
    },
    {
     "cell_type": "heading",
     "level": 6,
     "metadata": {},
     "source": [
      "Removing Lyrics and lowering track names"
     ]
    },
    {
     "cell_type": "code",
     "collapsed": false,
     "input": [
      "dataset['track'] = dataset['track'].apply(lambda track: track.lower().rstrip('lyrics'))"
     ],
     "language": "python",
     "metadata": {},
     "outputs": [],
     "prompt_number": 147
    },
    {
     "cell_type": "code",
     "collapsed": false,
     "input": [
      "dataset.loc[111].track"
     ],
     "language": "python",
     "metadata": {},
     "outputs": [
      {
       "metadata": {},
       "output_type": "pyout",
       "prompt_number": 148,
       "text": [
        "'the christmas song (chestnuts roasting on an open fire) (single) '"
       ]
      }
     ],
     "prompt_number": 148
    },
    {
     "cell_type": "code",
     "collapsed": false,
     "input": [
      "dataset['artist'] = dataset['artist'].apply(lambda artist: artist.lower())"
     ],
     "language": "python",
     "metadata": {},
     "outputs": [],
     "prompt_number": 149
    },
    {
     "cell_type": "code",
     "collapsed": false,
     "input": [],
     "language": "python",
     "metadata": {},
     "outputs": []
    },
    {
     "cell_type": "code",
     "collapsed": false,
     "input": [
      "dataset.head()"
     ],
     "language": "python",
     "metadata": {},
     "outputs": [
      {
       "html": [
        "<div style=\"max-height:1000px;max-width:1500px;overflow:auto;\">\n",
        "<table border=\"1\" class=\"dataframe\">\n",
        "  <thead>\n",
        "    <tr style=\"text-align: right;\">\n",
        "      <th></th>\n",
        "      <th>artist</th>\n",
        "      <th>track</th>\n",
        "      <th>lyric</th>\n",
        "    </tr>\n",
        "  </thead>\n",
        "  <tbody>\n",
        "    <tr>\n",
        "      <th>1</th>\n",
        "      <td> Led Zeppelin</td>\n",
        "      <td>               Houses Of The Holy Lyrics</td>\n",
        "      <td> Led Zeppelin \\nPhysical Graffiti \\nHouses Of T...</td>\n",
        "    </tr>\n",
        "    <tr>\n",
        "      <th>2</th>\n",
        "      <td> Led Zeppelin</td>\n",
        "      <td> The Song Remains the Same (Live) Lyrics</td>\n",
        "      <td> I had a dream. Crazy dream. \\r\\nAnything I wan...</td>\n",
        "    </tr>\n",
        "    <tr>\n",
        "      <th>3</th>\n",
        "      <td> Led Zeppelin</td>\n",
        "      <td>                        Ramble On Lyrics</td>\n",
        "      <td> Leaves are falling all around* \\nIt's time I w...</td>\n",
        "    </tr>\n",
        "    <tr>\n",
        "      <th>4</th>\n",
        "      <td> Led Zeppelin</td>\n",
        "      <td>                    Rock and Roll Lyrics</td>\n",
        "      <td> It's been a long time since I rock and rolled ...</td>\n",
        "    </tr>\n",
        "    <tr>\n",
        "      <th>5</th>\n",
        "      <td> Led Zeppelin</td>\n",
        "      <td>                   Somethin' Else Lyrics</td>\n",
        "      <td> Hey, look here, what's all this? \\nThere's a c...</td>\n",
        "    </tr>\n",
        "  </tbody>\n",
        "</table>\n",
        "</div>"
       ],
       "metadata": {},
       "output_type": "pyout",
       "prompt_number": 21,
       "text": [
        "         artist                                    track  \\\n",
        "1  Led Zeppelin                Houses Of The Holy Lyrics   \n",
        "2  Led Zeppelin  The Song Remains the Same (Live) Lyrics   \n",
        "3  Led Zeppelin                         Ramble On Lyrics   \n",
        "4  Led Zeppelin                     Rock and Roll Lyrics   \n",
        "5  Led Zeppelin                    Somethin' Else Lyrics   \n",
        "\n",
        "                                               lyric  \n",
        "1  Led Zeppelin \\nPhysical Graffiti \\nHouses Of T...  \n",
        "2  I had a dream. Crazy dream. \\r\\nAnything I wan...  \n",
        "3  Leaves are falling all around* \\nIt's time I w...  \n",
        "4  It's been a long time since I rock and rolled ...  \n",
        "5  Hey, look here, what's all this? \\nThere's a c...  "
       ]
      }
     ],
     "prompt_number": 21
    },
    {
     "cell_type": "code",
     "collapsed": false,
     "input": [],
     "language": "python",
     "metadata": {},
     "outputs": []
    },
    {
     "cell_type": "code",
     "collapsed": false,
     "input": [
      "cnt_vec = CountVectorizer()"
     ],
     "language": "python",
     "metadata": {},
     "outputs": [],
     "prompt_number": 15
    },
    {
     "cell_type": "code",
     "collapsed": false,
     "input": [
      "feature_matrix = cnt_vec.fit_transform(dataset.lyric)"
     ],
     "language": "python",
     "metadata": {},
     "outputs": [],
     "prompt_number": 16
    },
    {
     "cell_type": "code",
     "collapsed": false,
     "input": [
      "feature_matrix"
     ],
     "language": "python",
     "metadata": {},
     "outputs": [
      {
       "metadata": {},
       "output_type": "pyout",
       "prompt_number": 20,
       "text": [
        "<140x3208 sparse matrix of type '<type 'numpy.int64'>'\n",
        "\twith 13156 stored elements in Compressed Sparse Row format>"
       ]
      }
     ],
     "prompt_number": 20
    },
    {
     "cell_type": "code",
     "collapsed": false,
     "input": [],
     "language": "python",
     "metadata": {},
     "outputs": []
    }
   ],
   "metadata": {}
  }
 ]
}