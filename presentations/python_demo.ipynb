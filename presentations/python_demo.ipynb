{
 "metadata": {
  "name": "",
  "signature": "sha256:651d245b15fa83712a087c0f46cb6e62a8eb9e06e112b77a48cc93130e724553"
 },
 "nbformat": 3,
 "nbformat_minor": 0,
 "worksheets": [
  {
   "cells": [
    {
     "cell_type": "markdown",
     "metadata": {
      "slideshow": {
       "slide_type": "slide"
      }
     },
     "source": [
      "<img src=\"fig/Spotify_Logo_RGB_Black.png\" style=\"height:auto; width:auto; max-width:300px; max-height:300px; position:left;\"/>\n",
      "\n",
      "## Lets see some of that python magic!\n",
      "\n",
      "\n",
      "Todays agenda:\n",
      "\n",
      "\n",
      "*18:15 - 18:45:*\n",
      "Introduction to clustering and feature engineering\n",
      "\n",
      "Short break, refill drinks, greet & meet etc.\n",
      "\n",
      "** *19:00 - 19:30:*\n",
      "Introduction to data (mining) analysis in Python **\n",
      "\n",
      " *19:30: *\n",
      "Hang around and discuss clustering and machine learning.\n"
     ]
    },
    {
     "cell_type": "markdown",
     "metadata": {
      "slideshow": {
       "slide_type": "slide"
      }
     },
     "source": [
      "<h1> Introduction to data (mining) analysis in Python</h1>"
     ]
    },
    {
     "cell_type": "markdown",
     "metadata": {
      "slideshow": {
       "slide_type": "slide"
      }
     },
     "source": [
      "# Why python?"
     ]
    },
    {
     "cell_type": "markdown",
     "metadata": {
      "slideshow": {
       "slide_type": "slide"
      }
     },
     "source": [
      "# (Matlab) vs R vs Python!"
     ]
    },
    {
     "cell_type": "markdown",
     "metadata": {
      "slideshow": {
       "slide_type": "fragment"
      }
     },
     "source": [
      "### Learn all, use the right tool for the right task"
     ]
    },
    {
     "cell_type": "markdown",
     "metadata": {
      "slideshow": {
       "slide_type": "slide"
      }
     },
     "source": [
      "# How we work in Python: \n",
      "# The Numpy stack"
     ]
    },
    {
     "cell_type": "markdown",
     "metadata": {
      "slideshow": {
       "slide_type": "slide"
      }
     },
     "source": [
      "# Buuuuzzwords incoming!"
     ]
    },
    {
     "cell_type": "markdown",
     "metadata": {
      "slideshow": {
       "slide_type": "slide"
      }
     },
     "source": [
      "## Store the raw dataset in a *pandas* dataframe"
     ]
    },
    {
     "cell_type": "markdown",
     "metadata": {
      "slideshow": {
       "slide_type": "fragment"
      }
     },
     "source": [
      "## Engineer features and store in a *numpy-array*"
     ]
    },
    {
     "cell_type": "markdown",
     "metadata": {
      "slideshow": {
       "slide_type": "fragment"
      }
     },
     "source": [
      "## Create the distance matrix with scipy"
     ]
    },
    {
     "cell_type": "markdown",
     "metadata": {
      "slideshow": {
       "slide_type": "fragment"
      }
     },
     "source": [
      "## train the model with *scikit-learn*"
     ]
    },
    {
     "cell_type": "markdown",
     "metadata": {
      "slideshow": {
       "slide_type": "fragment"
      }
     },
     "source": [
      "## plot the result with *matplotlib*"
     ]
    },
    {
     "cell_type": "markdown",
     "metadata": {
      "slideshow": {
       "slide_type": "slide"
      }
     },
     "source": [
      "# Pandas\n",
      "\n",
      "* ### Helps load data into Python\n",
      "* ### Easy to analyze the data\n",
      "* ### Makes me avoid excel\n",
      "* ### http://pandas.pydata.org/"
     ]
    },
    {
     "cell_type": "markdown",
     "metadata": {
      "slideshow": {
       "slide_type": "slide"
      }
     },
     "source": [
      "# Scikit-learn\n",
      "\n",
      "* ### Extremely well documented with examples\n",
      "* ### Consistent API\n",
      "* ### Big community\n",
      "* ### http://scikit-learn.org/stable/"
     ]
    },
    {
     "cell_type": "markdown",
     "metadata": {
      "slideshow": {
       "slide_type": "slide"
      }
     },
     "source": [
      "<img src=\"fig/scikitlearn.png\"/>"
     ]
    },
    {
     "cell_type": "markdown",
     "metadata": {
      "slideshow": {
       "slide_type": "slide"
      }
     },
     "source": [
      "<img src=\"fig/clusteringmethods.png\"/>"
     ]
    },
    {
     "cell_type": "code",
     "collapsed": false,
     "input": [
      "# Helper stuff as I'm presenting stuff live\n",
      "# Font warning in plots\n",
      "import warnings\n",
      "warnings.filterwarnings('ignore')\n",
      "\n",
      "# Bigger matplotlib figures\n",
      "from pylab import rcParams\n",
      "rcParams['figure.figsize'] = 15, 10"
     ],
     "language": "python",
     "metadata": {
      "slideshow": {
       "slide_type": "skip"
      }
     },
     "outputs": []
    },
    {
     "cell_type": "markdown",
     "metadata": {
      "slideshow": {
       "slide_type": "slide"
      }
     },
     "source": [
      "#iPython notebook\n",
      "\n",
      "### From here on things might get shaky"
     ]
    },
    {
     "cell_type": "code",
     "collapsed": false,
     "input": [
      "print \"Lets do this!\""
     ],
     "language": "python",
     "metadata": {
      "slideshow": {
       "slide_type": "slide"
      }
     },
     "outputs": [
      {
       "output_type": "stream",
       "stream": "stdout",
       "text": [
        "Lets do this!\n"
       ]
      }
     ],
     "prompt_number": 432
    },
    {
     "cell_type": "markdown",
     "metadata": {
      "slideshow": {
       "slide_type": "skip"
      }
     },
     "source": [
      "# Execute python and get inline plots!"
     ]
    },
    {
     "cell_type": "code",
     "collapsed": false,
     "input": [
      "mean = 0\n",
      "variance = 1\n",
      "sigma = math.sqrt(variance)\n",
      "\n",
      "x = np.linspace(-3,3,100)\n",
      "plt.plot(x,mlab.normpdf(x,mean,sigma))\n",
      "\n",
      "plt.show()"
     ],
     "language": "python",
     "metadata": {
      "slideshow": {
       "slide_type": "skip"
      }
     },
     "outputs": []
    },
    {
     "cell_type": "markdown",
     "metadata": {
      "slideshow": {
       "slide_type": "skip"
      }
     },
     "source": [
      "# Command line stuff\n",
      "\n",
      "## ! terminal command\n",
      "## % magic command\n",
      "## %% Kernel (R, Bash)"
     ]
    },
    {
     "cell_type": "code",
     "collapsed": false,
     "input": [
      "!ls ~/nltk_data/tokenizers/punkt/"
     ],
     "language": "python",
     "metadata": {
      "slideshow": {
       "slide_type": "skip"
      }
     },
     "outputs": []
    },
    {
     "cell_type": "code",
     "collapsed": false,
     "input": [
      "my_variable = !cat ~/nltk_data/tokenizers/punkt/README | head -n 10\n",
      "print my_variable"
     ],
     "language": "python",
     "metadata": {
      "slideshow": {
       "slide_type": "skip"
      }
     },
     "outputs": []
    },
    {
     "cell_type": "markdown",
     "metadata": {},
     "source": [
      "# But whatch it and do use !"
     ]
    },
    {
     "cell_type": "code",
     "collapsed": false,
     "input": [
      "ls"
     ],
     "language": "python",
     "metadata": {},
     "outputs": []
    },
    {
     "cell_type": "code",
     "collapsed": false,
     "input": [
      "ls = 1\n",
      "print ls\n",
      "\n",
      "del ls\n",
      "!ls"
     ],
     "language": "python",
     "metadata": {},
     "outputs": []
    },
    {
     "cell_type": "code",
     "collapsed": false,
     "input": [
      "ls"
     ],
     "language": "python",
     "metadata": {},
     "outputs": []
    },
    {
     "cell_type": "markdown",
     "metadata": {},
     "source": [
      "# Other kernals than python"
     ]
    },
    {
     "cell_type": "code",
     "collapsed": false,
     "input": [
      "%%bash\n",
      "\n",
      "# Execute hive-queries from iPython\n",
      "printf \"we need more data \\n\\n\"\n",
      "printf \"Lets run a hive-query \\n\\n\"\n",
      "\n",
      "printf \"hive -e 'select users from music_played'\""
     ],
     "language": "python",
     "metadata": {
      "slideshow": {
       "slide_type": "skip"
      }
     },
     "outputs": []
    },
    {
     "cell_type": "markdown",
     "metadata": {},
     "source": [
      "# Variables are stored in a local state"
     ]
    },
    {
     "cell_type": "code",
     "collapsed": false,
     "input": [
      "print not_defined_variable"
     ],
     "language": "python",
     "metadata": {},
     "outputs": []
    },
    {
     "cell_type": "code",
     "collapsed": false,
     "input": [
      "not_defined_variable =  1"
     ],
     "language": "python",
     "metadata": {},
     "outputs": []
    },
    {
     "cell_type": "markdown",
     "metadata": {
      "slideshow": {
       "slide_type": "skip"
      }
     },
     "source": [
      "# Getting the Data\n",
      "* ### Internet is full of data - we can crawl it\n",
      "    * ### Lyrics crawler: https://github.com/Oscarlsson/meetup-clustering-presentation/tree/master/crawler\n",
      "* ### Scikit-learn comes with (toy) datasets\n",
      "http://scikit-learn.org/stable/datasets/"
     ]
    },
    {
     "cell_type": "heading",
     "level": 1,
     "metadata": {
      "slideshow": {
       "slide_type": "skip"
      }
     },
     "source": [
      "Loading the dataset"
     ]
    },
    {
     "cell_type": "code",
     "collapsed": false,
     "input": [
      "!ls ../crawler/output/ | head -n 10"
     ],
     "language": "python",
     "metadata": {
      "slideshow": {
       "slide_type": "skip"
      }
     },
     "outputs": []
    },
    {
     "cell_type": "code",
     "collapsed": false,
     "input": [
      "!ls ../crawler/output/Aerosmith/ | head -n 10"
     ],
     "language": "python",
     "metadata": {
      "slideshow": {
       "slide_type": "skip"
      }
     },
     "outputs": []
    },
    {
     "cell_type": "code",
     "collapsed": false,
     "input": [
      "# helper function to load each json and add it as a row to a dataframe\n",
      "from utils import utils\n",
      "dataset = utils.build_dataset(debug=False)"
     ],
     "language": "python",
     "metadata": {
      "slideshow": {
       "slide_type": "skip"
      }
     },
     "outputs": []
    },
    {
     "cell_type": "code",
     "collapsed": false,
     "input": [
      "dataset.head()"
     ],
     "language": "python",
     "metadata": {
      "slideshow": {
       "slide_type": "skip"
      }
     },
     "outputs": []
    },
    {
     "cell_type": "heading",
     "level": 1,
     "metadata": {
      "slideshow": {
       "slide_type": "skip"
      }
     },
     "source": [
      "Data cleaning"
     ]
    },
    {
     "cell_type": "code",
     "collapsed": false,
     "input": [
      "dataset.loc[1].lyric"
     ],
     "language": "python",
     "metadata": {
      "slideshow": {
       "slide_type": "skip"
      }
     },
     "outputs": []
    },
    {
     "cell_type": "markdown",
     "metadata": {
      "slideshow": {
       "slide_type": "skip"
      }
     },
     "source": [
      "## Removing escape sequences:"
     ]
    },
    {
     "cell_type": "code",
     "collapsed": false,
     "input": [
      "dataset['lyric'] = dataset['lyric'].apply(lambda lyric: re.sub('\\\\n', '', lyric))\n",
      "dataset['lyric'] = dataset['lyric'].apply(lambda lyric: re.sub('\\\\r', '', lyric))\n",
      "print dataset.loc[1].lyric"
     ],
     "language": "python",
     "metadata": {
      "slideshow": {
       "slide_type": "skip"
      }
     },
     "outputs": []
    },
    {
     "cell_type": "markdown",
     "metadata": {
      "slideshow": {
       "slide_type": "skip"
      }
     },
     "source": [
      "## Removing the [words] and (words):"
     ]
    },
    {
     "cell_type": "code",
     "collapsed": false,
     "input": [
      "print \"Before\"\n",
      "print dataset.loc[111].lyric\n",
      "dataset['lyric'] = dataset['lyric'].apply(lambda lyric: re.sub('.?\\[.*?\\] | \\(.*?\\)', '', lyric))\n",
      "print \"\"\n",
      "print \"After\"\n",
      "print dataset.loc[111].lyric"
     ],
     "language": "python",
     "metadata": {
      "slideshow": {
       "slide_type": "skip"
      }
     },
     "outputs": []
    },
    {
     "cell_type": "markdown",
     "metadata": {
      "slideshow": {
       "slide_type": "skip"
      }
     },
     "source": [
      "## More weird characters"
     ]
    },
    {
     "cell_type": "code",
     "collapsed": false,
     "input": [
      "dataset.loc[2].lyric"
     ],
     "language": "python",
     "metadata": {
      "slideshow": {
       "slide_type": "skip"
      }
     },
     "outputs": []
    },
    {
     "cell_type": "code",
     "collapsed": false,
     "input": [
      "dataset['lyric'] = dataset['lyric'].apply(lambda lyric: re.sub('[^a-zA-Z0-9\\s]', '' ,lyric))\n",
      "dataset.loc[2].lyric"
     ],
     "language": "python",
     "metadata": {
      "slideshow": {
       "slide_type": "skip"
      }
     },
     "outputs": []
    },
    {
     "cell_type": "heading",
     "level": 6,
     "metadata": {
      "slideshow": {
       "slide_type": "skip"
      }
     },
     "source": [
      "Some final tweaks"
     ]
    },
    {
     "cell_type": "code",
     "collapsed": false,
     "input": [
      "dataset['track'] = dataset['track'].apply(lambda track: track.lower().rstrip('lyrics'))\n",
      "dataset['artist'] = dataset['artist'].apply(lambda artist: artist.lower())\n",
      "dataset['lyric'] = dataset['lyric'].apply(lambda lyric: lyric.decode('string_escape'))\n",
      "dataset['lyric'] = dataset['lyric'].apply(lambda lyric: lyric.lower())\n",
      "\n",
      "dataset.head()"
     ],
     "language": "python",
     "metadata": {
      "slideshow": {
       "slide_type": "skip"
      }
     },
     "outputs": []
    },
    {
     "cell_type": "code",
     "collapsed": false,
     "input": [
      "dataset.loc[1].lyric"
     ],
     "language": "python",
     "metadata": {
      "slideshow": {
       "slide_type": "skip"
      }
     },
     "outputs": []
    },
    {
     "cell_type": "heading",
     "level": 1,
     "metadata": {
      "slideshow": {
       "slide_type": "skip"
      }
     },
     "source": [
      "Feature Extraction"
     ]
    },
    {
     "cell_type": "code",
     "collapsed": false,
     "input": [
      "from sklearn.feature_extraction.text import CountVectorizer\n",
      "cnt_vec = CountVectorizer() # Bag of words"
     ],
     "language": "python",
     "metadata": {
      "slideshow": {
       "slide_type": "skip"
      }
     },
     "outputs": []
    },
    {
     "cell_type": "code",
     "collapsed": false,
     "input": [
      "X = cnt_vec.fit_transform(dataset.lyric)"
     ],
     "language": "python",
     "metadata": {
      "slideshow": {
       "slide_type": "skip"
      }
     },
     "outputs": []
    },
    {
     "cell_type": "code",
     "collapsed": false,
     "input": [
      "X.shape"
     ],
     "language": "python",
     "metadata": {
      "slideshow": {
       "slide_type": "skip"
      }
     },
     "outputs": []
    },
    {
     "cell_type": "code",
     "collapsed": false,
     "input": [
      "X[0,:].toarray()"
     ],
     "language": "python",
     "metadata": {
      "slideshow": {
       "slide_type": "skip"
      }
     },
     "outputs": []
    },
    {
     "cell_type": "heading",
     "level": 1,
     "metadata": {
      "slideshow": {
       "slide_type": "skip"
      }
     },
     "source": [
      "Very sparse"
     ]
    },
    {
     "cell_type": "code",
     "collapsed": false,
     "input": [
      "print \"Average non zero features %.0f \" % (X.nnz / X.shape[0])\n",
      "print \"out of %d features\" % X.shape[1]"
     ],
     "language": "python",
     "metadata": {
      "slideshow": {
       "slide_type": "skip"
      }
     },
     "outputs": []
    },
    {
     "cell_type": "markdown",
     "metadata": {
      "slideshow": {
       "slide_type": "skip"
      }
     },
     "source": [
      "# Well, what are our features?"
     ]
    },
    {
     "cell_type": "code",
     "collapsed": false,
     "input": [
      "from operator import itemgetter\n",
      "per_feature_weight_sum = np.sum(X.toarray(), axis=0)\n",
      "\n",
      "weight_feature = zip(per_feature_weight_sum, cnt_vec.get_feature_names())\n",
      "\n",
      "sorted(weight_feature, key=itemgetter(0), reverse=True)[:10] # 10 most common features in all rows"
     ],
     "language": "python",
     "metadata": {
      "slideshow": {
       "slide_type": "skip"
      }
     },
     "outputs": []
    },
    {
     "cell_type": "heading",
     "level": 1,
     "metadata": {
      "slideshow": {
       "slide_type": "skip"
      }
     },
     "source": [
      "Jump directly to hierarchical clustering"
     ]
    },
    {
     "cell_type": "code",
     "collapsed": false,
     "input": [
      "from scipy.spatial.distance import pdist\n",
      "from scipy.cluster.hierarchy import dendrogram, linkage\n",
      "\n",
      "D = pdist(X.toarray(), metric='cosine')\n",
      "Z = linkage(D, method='complete', metric='euclidean')\n",
      "\n",
      "dendro = dendrogram(Z)"
     ],
     "language": "python",
     "metadata": {
      "slideshow": {
       "slide_type": "skip"
      }
     },
     "outputs": []
    },
    {
     "cell_type": "code",
     "collapsed": false,
     "input": [
      "from scipy.cluster.hierarchy import fcluster\n",
      "\n",
      "for cutting_distance in [0.99, 0.97, 0.96, 0.4, 0.2]:\n",
      "    Y = fcluster(Z, cutting_distance, criterion='distance')\n",
      "    print \"Number of clusters %d\" % len(np.unique(Y)), \n",
      "    print \"Silhouette score %f\" % silhouette_score(X, Y)\n"
     ],
     "language": "python",
     "metadata": {},
     "outputs": []
    },
    {
     "cell_type": "code",
     "collapsed": false,
     "input": [
      "def silhouette_per_cluster(X,Y):\n",
      "    \"\"\" Calculates the average silhouette score\n",
      "    per cluster given X,Y\n",
      "    \"\"\"\n",
      "    \n",
      "    samples = silhouette_samples(X, Y)\n",
      "    cluster_silhouette_core = []\n",
      "    for i in np.unique(Y):\n",
      "        cluster_i = samples[Y == i]\n",
      "        cluster_silhouette_core.append(np.mean(cluster_i))\n",
      "    return cluster_silhouette_core\n",
      "\n",
      "def cluster_sizes(Y):\n",
      "    \"\"\" Returns the size of each cluster given\n",
      "    a categorial vector Y\n",
      "    \"\"\"\n",
      "    cluster_size = []\n",
      "    for cluster in np.unique(Y):\n",
      "        Y_ = Y == cluster\n",
      "        cluster_size.append(sum(Y_))\n",
      "    return cluster_size"
     ],
     "language": "python",
     "metadata": {},
     "outputs": []
    },
    {
     "cell_type": "markdown",
     "metadata": {
      "slideshow": {
       "slide_type": "skip"
      }
     },
     "source": [
      "# Lets try K-means"
     ]
    },
    {
     "cell_type": "code",
     "collapsed": false,
     "input": [
      "from sklearn.cluster import KMeans\n",
      "from sklearn.metrics.cluster import silhouette_samples\n",
      "\n",
      "def kmeans(X, k=3, n_init=10):\n",
      "    \"\"\" Fits a Kmeans model given a number of cluster\n",
      "    and returns the \"clustered\" kmeans object\n",
      "    \"\"\"\n",
      "    kmeans_model = KMeans(n_clusters=k, n_init=10)\n",
      "    kmeans_model.fit(X)\n",
      "    \n",
      "    return  kmeans_model"
     ],
     "language": "python",
     "metadata": {
      "slideshow": {
       "slide_type": "skip"
      }
     },
     "outputs": []
    },
    {
     "cell_type": "code",
     "collapsed": false,
     "input": [
      "# Local Optimum\n",
      "km = kmeans(X, k=3)\n",
      "Y = km.labels_\n",
      "print Y\n",
      "print \"Silhouette score %f\" % silhouette_score(X, Y)\n",
      "print km.inertia_"
     ],
     "language": "python",
     "metadata": {},
     "outputs": []
    },
    {
     "cell_type": "code",
     "collapsed": false,
     "input": [
      "km = kmeans(X, k=3)\n",
      "Y = km.labels_\n",
      "print Y\n",
      "print \"Silhouette score %f\" % silhouette_score(X, Y)\n",
      "print km.inertia_"
     ],
     "language": "python",
     "metadata": {},
     "outputs": []
    },
    {
     "cell_type": "markdown",
     "metadata": {},
     "source": [
      "# Avoiding local optimum"
     ]
    },
    {
     "cell_type": "code",
     "collapsed": false,
     "input": [
      "def kmeans_multiple(X, k=3, n_runs=20):\n",
      "    \"\"\" Run k-means multiple times to avoid \n",
      "    getting stuck in a local optimum.\n",
      "    We worship silhouette score hence return\n",
      "    the model with maximum score.\n",
      "    \"\"\"\n",
      "\n",
      "    km_models = []\n",
      "    for i in range(1, n_runs):\n",
      "        \n",
      "        # Train model\n",
      "        kmeans_model = KMeans(n_clusters=k)\n",
      "        kmeans_model.fit(X)\n",
      "        # Calculate \n",
      "        Y = kmeans_model.labels_\n",
      "        sil_score = silhouette_score(X, Y)\n",
      "        \n",
      "        km_models.append((sil_score, kmeans_model))\n",
      "    return max(km_models, key=itemgetter(0)) # Best silhouette score"
     ],
     "language": "python",
     "metadata": {},
     "outputs": []
    },
    {
     "cell_type": "code",
     "collapsed": false,
     "input": [
      "sil_score, kmeans_model = kmeans_multiple(X)\n",
      "print kmeans_model.inertia_\n",
      "print sil_score"
     ],
     "language": "python",
     "metadata": {},
     "outputs": []
    },
    {
     "cell_type": "code",
     "collapsed": false,
     "input": [
      "# k = 2 to 9\n",
      "# This takes a while..\n",
      "k_range = range(2, 10)\n",
      "km_k = [kmeans_multiple(X, k=k_i) for k_i in k_range]"
     ],
     "language": "python",
     "metadata": {},
     "outputs": []
    },
    {
     "cell_type": "code",
     "collapsed": false,
     "input": [],
     "language": "python",
     "metadata": {},
     "outputs": []
    },
    {
     "cell_type": "code",
     "collapsed": false,
     "input": [
      "# km = (sil, kmeans_model)\n",
      "plt.plot(k_range, [km[1].inertia_ for km in km_k])\n",
      "plt.title('Inertia')\n",
      "plt.ylabel('Inertia')\n",
      "plt.xlabel('Number of clusters, k')"
     ],
     "language": "python",
     "metadata": {},
     "outputs": []
    },
    {
     "cell_type": "code",
     "collapsed": false,
     "input": [
      "plt.plot(k_range, [km[0] for km in km_k])\n",
      "plt.title('Silhouette score')\n",
      "plt.ylabel('Silhouette score')\n",
      "plt.xlabel('Numbers of clusters, k')"
     ],
     "language": "python",
     "metadata": {},
     "outputs": []
    },
    {
     "cell_type": "code",
     "collapsed": false,
     "input": [
      "# The cluster we choose\n",
      "k = 3\n",
      "# -2 due to indexing, and 1 to get the model\n",
      "Y = km_k[k-2][1].labels_"
     ],
     "language": "python",
     "metadata": {},
     "outputs": []
    },
    {
     "cell_type": "code",
     "collapsed": false,
     "input": [
      "print silhouette_per_cluster(X, Y)\n",
      "print cluster_sizes(Y)"
     ],
     "language": "python",
     "metadata": {},
     "outputs": []
    },
    {
     "cell_type": "heading",
     "level": 1,
     "metadata": {},
     "source": [
      "Manual inspection"
     ]
    },
    {
     "cell_type": "markdown",
     "metadata": {},
     "source": [
      "### Do you remember this?"
     ]
    },
    {
     "cell_type": "code",
     "collapsed": false,
     "input": [
      "dataset.head()"
     ],
     "language": "python",
     "metadata": {},
     "outputs": []
    },
    {
     "cell_type": "code",
     "collapsed": false,
     "input": [
      "sil_cluster = silhouette_per_cluster(X, Y)\n",
      "for cluster in np.unique(Y):\n",
      "    \n",
      "    Y_ = Y == cluster\n",
      "    \n",
      "    print \"Id:  %d\" % cluster, \n",
      "    print \"Sil score: %f\" % sil_cluster[cluster],\n",
      "    print \"Size: %d\" % sum(Y_)\n",
      "    \n",
      "    cluster_data = dataset[Y==cluster]\n",
      "    \n",
      "    for (index, obj) in cluster_data.iterrows():\n",
      "        print obj.artist,\n",
      "        print \" - \",\n",
      "        print obj.track\n",
      "    print \" \""
     ],
     "language": "python",
     "metadata": {},
     "outputs": []
    },
    {
     "cell_type": "code",
     "collapsed": false,
     "input": [
      "dataset[Y==2]"
     ],
     "language": "python",
     "metadata": {},
     "outputs": []
    },
    {
     "cell_type": "code",
     "collapsed": false,
     "input": [
      "for (i, row) in dataset[Y==2].iterrows():\n",
      "    print row.lyric\n",
      "    print \"\""
     ],
     "language": "python",
     "metadata": {},
     "outputs": []
    },
    {
     "cell_type": "markdown",
     "metadata": {},
     "source": [
      "# Next step?\n",
      "## *  Try a stemmer\n",
      "## *  Remove stop words\n",
      "## *  Cluster artists with all lyrics as vector representation"
     ]
    },
    {
     "cell_type": "markdown",
     "metadata": {},
     "source": [
      "<img src=\"fig/Spotify_Logo_RGB_Black.png\" style=\"height:auto; width:auto; max-width:300px; max-height:300px; position:left;\"/>\n",
      "\n",
      "\n",
      "## Thank you for tonight, please hang around for a while!\n",
      "\n",
      "\n",
      "\n",
      "## Oscar Carlsson\n",
      "\n",
      "## * Slides: https://github.com/Oscarlsson/meetup-clustering-presentation\n",
      "## * Keep in touch: https://www.linkedin.com/in/ocarlsson3\n"
     ]
    },
    {
     "cell_type": "code",
     "collapsed": false,
     "input": [],
     "language": "python",
     "metadata": {},
     "outputs": []
    }
   ],
   "metadata": {}
  }
 ]
}