{
 "metadata": {
  "celltoolbar": "Slideshow",
  "name": "",
  "signature": "sha256:8294e1f02e9902d3ec09f14b65f453ae6009f0dff67acd84074135332ac6e4fb"
 },
 "nbformat": 3,
 "nbformat_minor": 0,
 "worksheets": [
  {
   "cells": [
    {
     "cell_type": "markdown",
     "metadata": {
      "slideshow": {
       "slide_type": "slide"
      }
     },
     "source": [
      "<img src=\"fig/Spotify_Logo_RGB_Black.png\" style=\"height:auto; width:auto; max-width:300px; max-height:300px; position:left;\"/>\n",
      "\n",
      "## Lets see some of that python magic!\n",
      "\n",
      "\n",
      "Todays agenda:\n",
      "\n",
      "\n",
      "> *18:15 - 18:45:*\n",
      "Introduction to clustering and feature engineering\n",
      ">\n",
      ">Short break, refill drinks, greet & meet etc.\n",
      ">\n",
      ">** *19:00 - 19:30:*\n",
      "Introduction to data (mining) analysis in Python **\n",
      ">\n",
      "> *19:30: *\n",
      "Hang around and discuss clustering and machine learning.\n",
      ">"
     ]
    },
    {
     "cell_type": "markdown",
     "metadata": {
      "slideshow": {
       "slide_type": "slide"
      }
     },
     "source": [
      "<h1> Introduction to data (mining) analysis in Python</h1>"
     ]
    },
    {
     "cell_type": "markdown",
     "metadata": {
      "slideshow": {
       "slide_type": "slide"
      }
     },
     "source": [
      "# Why python?"
     ]
    },
    {
     "cell_type": "markdown",
     "metadata": {
      "slideshow": {
       "slide_type": "slide"
      }
     },
     "source": [
      "# (Matlab) vs R vs Python!"
     ]
    },
    {
     "cell_type": "markdown",
     "metadata": {
      "slideshow": {
       "slide_type": "fragment"
      }
     },
     "source": [
      "### Learn all, use the right tool for the right task"
     ]
    },
    {
     "cell_type": "markdown",
     "metadata": {
      "slideshow": {
       "slide_type": "slide"
      }
     },
     "source": [
      "# How we work in Python: \n",
      "# The Numpy stack"
     ]
    },
    {
     "cell_type": "markdown",
     "metadata": {
      "slideshow": {
       "slide_type": "slide"
      }
     },
     "source": [
      "# Buuuuzzwords incoming!"
     ]
    },
    {
     "cell_type": "markdown",
     "metadata": {
      "slideshow": {
       "slide_type": "slide"
      }
     },
     "source": [
      "## Store the raw dataset in a *pandas* dataframe"
     ]
    },
    {
     "cell_type": "markdown",
     "metadata": {
      "slideshow": {
       "slide_type": "fragment"
      }
     },
     "source": [
      "## Engineer features and store in a *numpy-array*"
     ]
    },
    {
     "cell_type": "markdown",
     "metadata": {
      "slideshow": {
       "slide_type": "fragment"
      }
     },
     "source": [
      "## Create the distance matrix with scipy"
     ]
    },
    {
     "cell_type": "markdown",
     "metadata": {
      "slideshow": {
       "slide_type": "fragment"
      }
     },
     "source": [
      "## train the model with *scikit-learn*"
     ]
    },
    {
     "cell_type": "markdown",
     "metadata": {
      "slideshow": {
       "slide_type": "fragment"
      }
     },
     "source": [
      "## plot the result with *matplotlib*"
     ]
    },
    {
     "cell_type": "markdown",
     "metadata": {
      "slideshow": {
       "slide_type": "slide"
      }
     },
     "source": [
      "# Scikit-learn\n",
      "\n",
      "* ### Extremely well documented with examples\n",
      "* ### Consistent API\n",
      "* ### Big community\n",
      "* ### http://scikit-learn.org/stable/"
     ]
    },
    {
     "cell_type": "markdown",
     "metadata": {
      "slideshow": {
       "slide_type": "slide"
      }
     },
     "source": [
      "<img src=\"fig/scikitlearn.png\"/>"
     ]
    },
    {
     "cell_type": "markdown",
     "metadata": {
      "slideshow": {
       "slide_type": "slide"
      }
     },
     "source": [
      "<img src=\"fig/Overview clustering methods.png\"/>"
     ]
    },
    {
     "cell_type": "markdown",
     "metadata": {
      "slideshow": {
       "slide_type": "slide"
      }
     },
     "source": [
      "# Pandas\n",
      "\n",
      "* ### Helps load data into Python\n",
      "* ### Easy to analyze the data\n",
      "* ### Makes me avoid excel\n",
      "* ### http://pandas.pydata.org/"
     ]
    },
    {
     "cell_type": "code",
     "collapsed": false,
     "input": [
      "# Helper stuff as I'm presenting stuff live\n",
      "# Font warning in plots\n",
      "import warnings\n",
      "warnings.filterwarnings('ignore')\n",
      "\n",
      "# Bigger matplotlib figures\n",
      "from pylab import rcParams\n",
      "rcParams['figure.figsize'] = 15, 10"
     ],
     "language": "python",
     "metadata": {
      "slideshow": {
       "slide_type": "skip"
      }
     },
     "outputs": [],
     "prompt_number": 20
    },
    {
     "cell_type": "markdown",
     "metadata": {
      "slideshow": {
       "slide_type": "slide"
      }
     },
     "source": [
      "#iPython notebook\n",
      "\n",
      "### From here on things might get shaky"
     ]
    },
    {
     "cell_type": "code",
     "collapsed": false,
     "input": [
      "print \"Lets do this!\""
     ],
     "language": "python",
     "metadata": {
      "slideshow": {
       "slide_type": "skip"
      }
     },
     "outputs": [
      {
       "output_type": "stream",
       "stream": "stdout",
       "text": [
        "Lets do this!\n"
       ]
      }
     ],
     "prompt_number": 21
    },
    {
     "cell_type": "markdown",
     "metadata": {
      "slideshow": {
       "slide_type": "skip"
      }
     },
     "source": [
      "# Execute python and get inline plots!"
     ]
    },
    {
     "cell_type": "code",
     "collapsed": false,
     "input": [
      "mean = 0\n",
      "variance = 1\n",
      "sigma = math.sqrt(variance)\n",
      "\n",
      "x = np.linspace(-3,3,100)\n",
      "plt.plot(x,mlab.normpdf(x,mean,sigma))\n",
      "\n",
      "plt.show()"
     ],
     "language": "python",
     "metadata": {
      "slideshow": {
       "slide_type": "skip"
      }
     },
     "outputs": [
      {
       "metadata": {},
       "output_type": "display_data",
       "png": "[encoded data removed]",
       "text": [
        "<matplotlib.figure.Figure at 0x7f57287ce750>"
       ]
      }
     ],
     "prompt_number": 22
    },
    {
     "cell_type": "markdown",
     "metadata": {
      "slideshow": {
       "slide_type": "skip"
      }
     },
     "source": [
      "# Command line stuff\n",
      "\n",
      "## ! terminal command\n",
      "## % magic command\n",
      "## %% Kernel (R, Bash)"
     ]
    },
    {
     "cell_type": "code",
     "collapsed": false,
     "input": [
      "!ls ~/nltk_data/tokenizers/punkt/"
     ],
     "language": "python",
     "metadata": {
      "slideshow": {
       "slide_type": "skip"
      }
     },
     "outputs": [
      {
       "output_type": "stream",
       "stream": "stdout",
       "text": [
        "czech.pickle\t finnish.pickle  norwegian.pickle   slovene.pickle\r\n",
        "danish.pickle\t french.pickle\t polish.pickle\t    spanish.pickle\r\n",
        "dutch.pickle\t german.pickle\t portuguese.pickle  swedish.pickle\r\n",
        "english.pickle\t greek.pickle\t PY3\t\t    turkish.pickle\r\n",
        "estonian.pickle  italian.pickle  README\r\n"
       ]
      }
     ],
     "prompt_number": 23
    },
    {
     "cell_type": "code",
     "collapsed": false,
     "input": [
      "my_variable = !cat ~/nltk_data/tokenizers/punkt/README | head -n 10\n",
      "print my_variable"
     ],
     "language": "python",
     "metadata": {
      "slideshow": {
       "slide_type": "skip"
      }
     },
     "outputs": [
      {
       "output_type": "stream",
       "stream": "stdout",
       "text": [
        "['Pretrained Punkt Models -- Jan Strunk (New version trained after issues 313 and 514 had been corrected)', '', 'Most models were prepared using the test corpora from Kiss and Strunk (2006). Additional models have', 'been contributed by various people using NLTK for sentence boundary detection.', '', 'For information about how to use these models, please confer the tokenization HOWTO:', 'http://nltk.googlecode.com/svn/trunk/doc/howto/tokenize.html', 'and chapter 3.8 of the NLTK book:', 'http://nltk.googlecode.com/svn/trunk/doc/book/ch03.html#sec-segmentation', '']\n"
       ]
      }
     ],
     "prompt_number": 24
    },
    {
     "cell_type": "code",
     "collapsed": false,
     "input": [
      "%%bash\n",
      "\n",
      "# Execute hive-queries from iPython\n",
      "printf \"we need more data \\n\\n\"\n",
      "printf \"Lets run a hive-query \\n\\n\"\n",
      "\n",
      "printf \"hive -e 'select users from music_played'\""
     ],
     "language": "python",
     "metadata": {
      "slideshow": {
       "slide_type": "skip"
      }
     },
     "outputs": [
      {
       "output_type": "stream",
       "stream": "stdout",
       "text": [
        "we need more data \n",
        "\n",
        "Lets run a hive-query \n",
        "\n",
        "hive -e 'select users from music_played'"
       ]
      }
     ],
     "prompt_number": 78
    },
    {
     "cell_type": "markdown",
     "metadata": {
      "slideshow": {
       "slide_type": "skip"
      }
     },
     "source": [
      "# Getting the Data\n",
      "* ### Internet is full of data - we can crawl it\n",
      "    * ### Lyrics crawler: www.com\n",
      "* ### Scikit-learn comes with (toy) datasets\n",
      "http://scikit-learn.org/stable/datasets/"
     ]
    },
    {
     "cell_type": "code",
     "collapsed": false,
     "input": [
      "import pandas as pd\n",
      "import simplejson as json\n",
      "import re\n",
      "import os\n",
      "import sys\n",
      "\n",
      "def build_dataset(debug=False):\n",
      "    allowed_artists = ['Bob Dylan', \n",
      "                        'Katy Perry',\n",
      "                        'Justin Bieber',\n",
      "                        'Kiss',\n",
      "                        'Aerosmith',\n",
      "                        'Lady Gaga',\n",
      "                        'Led Zeppelin',\n",
      "                        'Madonna',\n",
      "                        'Maroon 5',\n",
      "                        'Red Hot Chili Peppers',\n",
      "                        'Taylor Swift',\n",
      "                        'The Ramones',\n",
      "                        'U2',\n",
      "                        'One Direction']\n",
      "    columns=['artist', 'track', 'lyric']\n",
      "    dt = pd.DataFrame(columns=columns)\n",
      "    artists = os.listdir('crawler/lyricsspider/output')\n",
      "    filtered_artists = filter(lambda artist: artist in allowed_artists, artists)\n",
      "    for artist in filtered_artists:\n",
      "        if artist in allowed_artists:\n",
      "            if debug:\n",
      "                print \"======== ARTIST =======\"\n",
      "                print artist\n",
      "                print \"======== LYRICS =======\"\n",
      "                \n",
      "            lyrics = os.listdir('crawler/lyricsspider/output/%s' % artist)\n",
      "            for lyric_name in lyrics[:10]:\n",
      "                lyric_file = 'crawler/lyricsspider/output/%s/%s' % (artist, lyric_name)\n",
      "                with open(lyric_file) as f:\n",
      "                    lyric = json.load(f)\n",
      "                if debug:\n",
      "                    print \"saving ..\", \n",
      "                    print lyric\n",
      "                \n",
      "                dt.loc[len(dt)+1] = [lyric['artist'], lyric['track'], \" \".join(lyric['lyric'])]\n",
      "            \n",
      "    return dt\n",
      "\n",
      "def data_cleaning(dataset):\n",
      "    dataset['lyric'] = dataset['lyric'].apply(lambda lyric: re.sub('\\\\n', '', lyric))\n",
      "    dataset['lyric'] = dataset['lyric'].apply(lambda lyric: re.sub('\\\\r', '', lyric))\n",
      "    dataset['lyric'] = dataset['lyric'].apply(lambda lyric: re.sub('.?\\[.*?\\] | \\(.*?\\)', '', lyric))\n",
      "    dataset['lyric'] = dataset['lyric'].apply(lambda lyric: lyric.lower())\n",
      "    dataset['track'] = dataset['track'].apply(lambda track: track.lower().rstrip('lyrics'))\n",
      "    dataset['artist'] = dataset['artist'].apply(lambda artist: artist.lower())\n",
      "    return dataset\n"
     ],
     "language": "python",
     "metadata": {
      "slideshow": {
       "slide_type": "skip"
      }
     },
     "outputs": [],
     "prompt_number": 26
    },
    {
     "cell_type": "heading",
     "level": 1,
     "metadata": {
      "slideshow": {
       "slide_type": "skip"
      }
     },
     "source": [
      "Loading the dataset"
     ]
    },
    {
     "cell_type": "code",
     "collapsed": false,
     "input": [
      "!ls crawler/lyricsspider/output/ | head -n 10"
     ],
     "language": "python",
     "metadata": {
      "slideshow": {
       "slide_type": "skip"
      }
     },
     "outputs": [
      {
       "output_type": "stream",
       "stream": "stdout",
       "text": [
        "100 Proof Aged In Soul\r\n",
        "2 Brothers On The 4th Floor\r\n",
        "3 Doors Down\r\n",
        "98 Degrees\r\n",
        "AALIYAH\r\n",
        "Ace Hood\r\n",
        "Adele\r\n",
        "Aerosmith\r\n",
        "Afrojack\r\n",
        "After 7\r\n"
       ]
      }
     ],
     "prompt_number": 27
    },
    {
     "cell_type": "code",
     "collapsed": false,
     "input": [
      "!ls crawler/lyricsspider/output/Aerosmith/ | head -n 10"
     ],
     "language": "python",
     "metadata": {
      "slideshow": {
       "slide_type": "skip"
      }
     },
     "outputs": [
      {
       "output_type": "stream",
       "stream": "stdout",
       "text": [
        "Adam's Apple.json\r\n",
        "Ain't Enough.json\r\n",
        "Ain't That A Bitch.json\r\n",
        "All Your Love.json\r\n",
        "Amazing.json\r\n",
        "Angel.json\r\n",
        "Angels Eye.json\r\n",
        "Animal Cracke.json\r\n",
        "Another Last Goodbye.json\r\n",
        "Attitude Adjusment.json\r\n"
       ]
      }
     ],
     "prompt_number": 28
    },
    {
     "cell_type": "code",
     "collapsed": false,
     "input": [
      "# helper function to load each json and add it as a row to a dataframe\n",
      "dataset = build_dataset(debug=False)"
     ],
     "language": "python",
     "metadata": {
      "slideshow": {
       "slide_type": "skip"
      }
     },
     "outputs": [],
     "prompt_number": 29
    },
    {
     "cell_type": "code",
     "collapsed": false,
     "input": [
      "dataset.head()"
     ],
     "language": "python",
     "metadata": {
      "slideshow": {
       "slide_type": "skip"
      }
     },
     "outputs": [
      {
       "html": [
        "<div style=\"max-height:1000px;max-width:1500px;overflow:auto;\">\n",
        "<table border=\"1\" class=\"dataframe\">\n",
        "  <thead>\n",
        "    <tr style=\"text-align: right;\">\n",
        "      <th></th>\n",
        "      <th>artist</th>\n",
        "      <th>track</th>\n",
        "      <th>lyric</th>\n",
        "    </tr>\n",
        "  </thead>\n",
        "  <tbody>\n",
        "    <tr>\n",
        "      <th>1</th>\n",
        "      <td> Led Zeppelin</td>\n",
        "      <td>               Houses Of The Holy Lyrics</td>\n",
        "      <td> Led Zeppelin \\nPhysical Graffiti \\nHouses Of T...</td>\n",
        "    </tr>\n",
        "    <tr>\n",
        "      <th>2</th>\n",
        "      <td> Led Zeppelin</td>\n",
        "      <td> The Song Remains the Same (Live) Lyrics</td>\n",
        "      <td> I had a dream. Crazy dream. \\r\\nAnything I wan...</td>\n",
        "    </tr>\n",
        "    <tr>\n",
        "      <th>3</th>\n",
        "      <td> Led Zeppelin</td>\n",
        "      <td>                        Ramble On Lyrics</td>\n",
        "      <td> Leaves are falling all around* \\nIt's time I w...</td>\n",
        "    </tr>\n",
        "    <tr>\n",
        "      <th>4</th>\n",
        "      <td> Led Zeppelin</td>\n",
        "      <td>                    Rock and Roll Lyrics</td>\n",
        "      <td> It's been a long time since I rock and rolled ...</td>\n",
        "    </tr>\n",
        "    <tr>\n",
        "      <th>5</th>\n",
        "      <td> Led Zeppelin</td>\n",
        "      <td>                   Somethin' Else Lyrics</td>\n",
        "      <td> Hey, look here, what's all this? \\nThere's a c...</td>\n",
        "    </tr>\n",
        "  </tbody>\n",
        "</table>\n",
        "</div>"
       ],
       "metadata": {},
       "output_type": "pyout",
       "prompt_number": 30,
       "text": [
        "         artist                                    track  \\\n",
        "1  Led Zeppelin                Houses Of The Holy Lyrics   \n",
        "2  Led Zeppelin  The Song Remains the Same (Live) Lyrics   \n",
        "3  Led Zeppelin                         Ramble On Lyrics   \n",
        "4  Led Zeppelin                     Rock and Roll Lyrics   \n",
        "5  Led Zeppelin                    Somethin' Else Lyrics   \n",
        "\n",
        "                                               lyric  \n",
        "1  Led Zeppelin \\nPhysical Graffiti \\nHouses Of T...  \n",
        "2  I had a dream. Crazy dream. \\r\\nAnything I wan...  \n",
        "3  Leaves are falling all around* \\nIt's time I w...  \n",
        "4  It's been a long time since I rock and rolled ...  \n",
        "5  Hey, look here, what's all this? \\nThere's a c...  "
       ]
      }
     ],
     "prompt_number": 30
    },
    {
     "cell_type": "heading",
     "level": 1,
     "metadata": {
      "slideshow": {
       "slide_type": "skip"
      }
     },
     "source": [
      "Data cleaning"
     ]
    },
    {
     "cell_type": "markdown",
     "metadata": {
      "slideshow": {
       "slide_type": "skip"
      }
     },
     "source": [
      "## Removing newlines from lyrics:"
     ]
    },
    {
     "cell_type": "code",
     "collapsed": false,
     "input": [
      "dataset.loc[1].lyric"
     ],
     "language": "python",
     "metadata": {
      "slideshow": {
       "slide_type": "skip"
      }
     },
     "outputs": [
      {
       "metadata": {},
       "output_type": "pyout",
       "prompt_number": 31,
       "text": [
        "\"Led Zeppelin \\nPhysical Graffiti \\nHouses Of The Holy \\nLet me take you to the movies \\r\\nCan I take you to the show \\r\\nLet me be yours ever truly \\r\\nCan I make your garden grow \\r\\nFrom the houses of the holy \\r\\nWe can watch the white doves go \\r\\nFrom the door comes Satan's daughter \\r\\nAnd it only goes to show \\r\\nAh, you know \\r\\nThere's an angel on my shoulder \\r\\nIn my hand a sword of gold \\r\\nLet me wander in your garden \\r\\nAnd the seeds of love I'll sow \\r\\nYou know-whoa-oh \\r\\nSo the world is spinning faster \\r\\nAre you dizzy when you're stoned \\r\\nLet the music be your master \\r\\nWill you heed the master's call \\r\\nOh-whoa-oh, Satan an' man \\r\\nSaid there ain't no use in cryin' \\r\\n'Cause it will only, only drive you mad \\r\\nDoes it hurt to hear them lyin' \\r\\nWas this the only world you had \\r\\nOh-oh \\r\\nSo let me take you, take you to the movie \\r\\nCan I take you, baby, to the show \\r\\nWhy don't you let me be yours ever truly \\r\\nCan I make your garden grow \\r\\nYou know-whoa, that's right\""
       ]
      }
     ],
     "prompt_number": 31
    },
    {
     "cell_type": "markdown",
     "metadata": {
      "slideshow": {
       "slide_type": "skip"
      }
     },
     "source": [
      "## Removing escape sequences:"
     ]
    },
    {
     "cell_type": "code",
     "collapsed": false,
     "input": [
      "dataset['lyric'] = dataset['lyric'].apply(lambda lyric: re.sub('\\\\n', '', lyric))\n",
      "dataset['lyric'] = dataset['lyric'].apply(lambda lyric: re.sub('\\\\r', '', lyric))"
     ],
     "language": "python",
     "metadata": {
      "slideshow": {
       "slide_type": "skip"
      }
     },
     "outputs": [],
     "prompt_number": 32
    },
    {
     "cell_type": "code",
     "collapsed": false,
     "input": [
      "dataset.loc[1].lyric"
     ],
     "language": "python",
     "metadata": {
      "slideshow": {
       "slide_type": "skip"
      }
     },
     "outputs": [
      {
       "metadata": {},
       "output_type": "pyout",
       "prompt_number": 33,
       "text": [
        "\"Led Zeppelin Physical Graffiti Houses Of The Holy Let me take you to the movies Can I take you to the show Let me be yours ever truly Can I make your garden grow From the houses of the holy We can watch the white doves go From the door comes Satan's daughter And it only goes to show Ah, you know There's an angel on my shoulder In my hand a sword of gold Let me wander in your garden And the seeds of love I'll sow You know-whoa-oh So the world is spinning faster Are you dizzy when you're stoned Let the music be your master Will you heed the master's call Oh-whoa-oh, Satan an' man Said there ain't no use in cryin' 'Cause it will only, only drive you mad Does it hurt to hear them lyin' Was this the only world you had Oh-oh So let me take you, take you to the movie Can I take you, baby, to the show Why don't you let me be yours ever truly Can I make your garden grow You know-whoa, that's right\""
       ]
      }
     ],
     "prompt_number": 33
    },
    {
     "cell_type": "markdown",
     "metadata": {
      "slideshow": {
       "slide_type": "skip"
      }
     },
     "source": [
      "## Removing the [words] and (words):"
     ]
    },
    {
     "cell_type": "code",
     "collapsed": false,
     "input": [
      "dataset.loc[111].lyric"
     ],
     "language": "python",
     "metadata": {
      "slideshow": {
       "slide_type": "skip"
      }
     },
     "outputs": [
      {
       "metadata": {},
       "output_type": "pyout",
       "prompt_number": 34,
       "text": [
        "\"[** feat. Usher:]   [Justin Bieber:] Chestnuts roasting on an open fire Jack Frost nipping at your nose (Yeah) Yuletide carols being sung by a choir And folks dressed up like Eskimos  [Justin Bieber:] Everybody knows a turkey and some mistletoe Help to make the season bright Tiny tots with their eyes all aglow Will find it hard to sleep tonight  [Usher:] They know that Santa's on his way He's loaded lots of toys and many goodies on his sleigh [Both:] And every mother's child is gonna spy To see if reindeer really know how to fly  [Both:] And so, I'm offering this simple phrase To kids from one to ninety-two Although it's been said many times, many ways Merry Christmas to you  [Both:] (Yeah) And so, I'm offering this simple phrase (oh wooah) To kids from one to ninety-two (Yeah, yeah) Although it's been said, many times, many ways Merry Christmas, Merry Christmas (Yeah), Merry Christmas (Oh No) Merry Christmas to you! \""
       ]
      }
     ],
     "prompt_number": 34
    },
    {
     "cell_type": "code",
     "collapsed": false,
     "input": [
      "dataset['lyric'] = dataset['lyric'].apply(lambda lyric: re.sub('.?\\[.*?\\] | \\(.*?\\)', '', lyric))"
     ],
     "language": "python",
     "metadata": {
      "slideshow": {
       "slide_type": "skip"
      }
     },
     "outputs": [],
     "prompt_number": 35
    },
    {
     "cell_type": "code",
     "collapsed": false,
     "input": [
      "dataset.loc[111].lyric"
     ],
     "language": "python",
     "metadata": {
      "slideshow": {
       "slide_type": "skip"
      }
     },
     "outputs": [
      {
       "metadata": {},
       "output_type": "pyout",
       "prompt_number": 36,
       "text": [
        "\" Chestnuts roasting on an open fire Jack Frost nipping at your nose Yuletide carols being sung by a choir And folks dressed up like Eskimos Everybody knows a turkey and some mistletoe Help to make the season bright Tiny tots with their eyes all aglow Will find it hard to sleep tonight They know that Santa's on his way He's loaded lots of toys and many goodies on his sleighAnd every mother's child is gonna spy To see if reindeer really know how to fly And so, I'm offering this simple phrase To kids from one to ninety-two Although it's been said many times, many ways Merry Christmas to you (Yeah) And so, I'm offering this simple phrase To kids from one to ninety-two Although it's been said, many times, many ways Merry Christmas, Merry Christmas, Merry Christmas Merry Christmas to you! \""
       ]
      }
     ],
     "prompt_number": 36
    },
    {
     "cell_type": "markdown",
     "metadata": {
      "slideshow": {
       "slide_type": "skip"
      }
     },
     "source": [
      "## Lowering all charachters:"
     ]
    },
    {
     "cell_type": "code",
     "collapsed": false,
     "input": [
      "dataset['lyric'] = dataset['lyric'].apply(lambda lyric: lyric.lower())"
     ],
     "language": "python",
     "metadata": {
      "slideshow": {
       "slide_type": "skip"
      }
     },
     "outputs": [],
     "prompt_number": 37
    },
    {
     "cell_type": "code",
     "collapsed": false,
     "input": [
      "dataset.loc[111].lyric"
     ],
     "language": "python",
     "metadata": {
      "slideshow": {
       "slide_type": "skip"
      }
     },
     "outputs": [
      {
       "metadata": {},
       "output_type": "pyout",
       "prompt_number": 38,
       "text": [
        "\" chestnuts roasting on an open fire jack frost nipping at your nose yuletide carols being sung by a choir and folks dressed up like eskimos everybody knows a turkey and some mistletoe help to make the season bright tiny tots with their eyes all aglow will find it hard to sleep tonight they know that santa's on his way he's loaded lots of toys and many goodies on his sleighand every mother's child is gonna spy to see if reindeer really know how to fly and so, i'm offering this simple phrase to kids from one to ninety-two although it's been said many times, many ways merry christmas to you (yeah) and so, i'm offering this simple phrase to kids from one to ninety-two although it's been said, many times, many ways merry christmas, merry christmas, merry christmas merry christmas to you! \""
       ]
      }
     ],
     "prompt_number": 38
    },
    {
     "cell_type": "markdown",
     "metadata": {
      "slideshow": {
       "slide_type": "skip"
      }
     },
     "source": [
      "## More weird characters"
     ]
    },
    {
     "cell_type": "code",
     "collapsed": false,
     "input": [
      "dataset.loc[2].lyric"
     ],
     "language": "python",
     "metadata": {
      "slideshow": {
       "slide_type": "skip"
      }
     },
     "outputs": [
      {
       "metadata": {},
       "output_type": "pyout",
       "prompt_number": 39,
       "text": [
        "\"i had a dream. crazy dream. anything i wanted to know, any place i needed to go  hear my song. people won't you listen now? sing along. you don't know what you're missing now. any little song that you know everything that's small has to grow. and it has to grow!  na na na na wow!  california sunlight, sweet calcutta rain honolulu starbright - the song remains the same.  sing out hare hare, dance the hoochie koo. city lights are oh so bright, as we go sliding... sliding... sliding through.\""
       ]
      }
     ],
     "prompt_number": 39
    },
    {
     "cell_type": "code",
     "collapsed": false,
     "input": [
      "dataset['lyric'] = dataset['lyric'].apply(lambda lyric: re.sub('[\\W]', ' ' ,lyric))"
     ],
     "language": "python",
     "metadata": {
      "slideshow": {
       "slide_type": "skip"
      }
     },
     "outputs": [],
     "prompt_number": 40
    },
    {
     "cell_type": "code",
     "collapsed": false,
     "input": [
      "dataset.loc[2].lyric"
     ],
     "language": "python",
     "metadata": {
      "slideshow": {
       "slide_type": "skip"
      }
     },
     "outputs": [
      {
       "metadata": {},
       "output_type": "pyout",
       "prompt_number": 41,
       "text": [
        "'i had a dream  crazy dream  anything i wanted to know  any place i needed to go  hear my song  people won t you listen now  sing along  you don t know what you re missing now  any little song that you know everything that s small has to grow  and it has to grow   na na na na wow   california sunlight  sweet calcutta rain honolulu starbright   the song remains the same   sing out hare hare  dance the hoochie koo  city lights are oh so bright  as we go sliding    sliding    sliding through '"
       ]
      }
     ],
     "prompt_number": 41
    },
    {
     "cell_type": "heading",
     "level": 6,
     "metadata": {
      "slideshow": {
       "slide_type": "skip"
      }
     },
     "source": [
      "Removing Lyrics and lowering track names"
     ]
    },
    {
     "cell_type": "code",
     "collapsed": false,
     "input": [
      "dataset['track'] = dataset['track'].apply(lambda track: track.lower().rstrip('lyrics'))"
     ],
     "language": "python",
     "metadata": {
      "slideshow": {
       "slide_type": "skip"
      }
     },
     "outputs": [],
     "prompt_number": 42
    },
    {
     "cell_type": "code",
     "collapsed": false,
     "input": [
      "dataset.loc[111].track"
     ],
     "language": "python",
     "metadata": {
      "slideshow": {
       "slide_type": "skip"
      }
     },
     "outputs": [
      {
       "metadata": {},
       "output_type": "pyout",
       "prompt_number": 43,
       "text": [
        "'the christmas song (chestnuts roasting on an open fire) (single) '"
       ]
      }
     ],
     "prompt_number": 43
    },
    {
     "cell_type": "code",
     "collapsed": false,
     "input": [
      "dataset['artist'] = dataset['artist'].apply(lambda artist: artist.lower())"
     ],
     "language": "python",
     "metadata": {
      "slideshow": {
       "slide_type": "skip"
      }
     },
     "outputs": [],
     "prompt_number": 44
    },
    {
     "cell_type": "code",
     "collapsed": false,
     "input": [
      "dataset['lyric'] = dataset['lyric'].apply(lambda lyric: lyric.decode('string_escape'))\n"
     ],
     "language": "python",
     "metadata": {
      "slideshow": {
       "slide_type": "skip"
      }
     },
     "outputs": [],
     "prompt_number": 45
    },
    {
     "cell_type": "code",
     "collapsed": false,
     "input": [
      "dataset.head()"
     ],
     "language": "python",
     "metadata": {
      "slideshow": {
       "slide_type": "skip"
      }
     },
     "outputs": [
      {
       "html": [
        "<div style=\"max-height:1000px;max-width:1500px;overflow:auto;\">\n",
        "<table border=\"1\" class=\"dataframe\">\n",
        "  <thead>\n",
        "    <tr style=\"text-align: right;\">\n",
        "      <th></th>\n",
        "      <th>artist</th>\n",
        "      <th>track</th>\n",
        "      <th>lyric</th>\n",
        "    </tr>\n",
        "  </thead>\n",
        "  <tbody>\n",
        "    <tr>\n",
        "      <th>1</th>\n",
        "      <td> led zeppelin</td>\n",
        "      <td>               houses of the holy </td>\n",
        "      <td> led zeppelin physical graffiti houses of the h...</td>\n",
        "    </tr>\n",
        "    <tr>\n",
        "      <th>2</th>\n",
        "      <td> led zeppelin</td>\n",
        "      <td> the song remains the same (live) </td>\n",
        "      <td> i had a dream  crazy dream  anything i wanted ...</td>\n",
        "    </tr>\n",
        "    <tr>\n",
        "      <th>3</th>\n",
        "      <td> led zeppelin</td>\n",
        "      <td>                        ramble on </td>\n",
        "      <td> leaves are falling all around  it s time i was...</td>\n",
        "    </tr>\n",
        "    <tr>\n",
        "      <th>4</th>\n",
        "      <td> led zeppelin</td>\n",
        "      <td>                    rock and roll </td>\n",
        "      <td> it s been a long time since i rock and rolled ...</td>\n",
        "    </tr>\n",
        "    <tr>\n",
        "      <th>5</th>\n",
        "      <td> led zeppelin</td>\n",
        "      <td>                   somethin' else </td>\n",
        "      <td> hey  look here  what s all this  there s a car...</td>\n",
        "    </tr>\n",
        "  </tbody>\n",
        "</table>\n",
        "</div>"
       ],
       "metadata": {},
       "output_type": "pyout",
       "prompt_number": 46,
       "text": [
        "         artist                              track  \\\n",
        "1  led zeppelin                houses of the holy    \n",
        "2  led zeppelin  the song remains the same (live)    \n",
        "3  led zeppelin                         ramble on    \n",
        "4  led zeppelin                     rock and roll    \n",
        "5  led zeppelin                    somethin' else    \n",
        "\n",
        "                                               lyric  \n",
        "1  led zeppelin physical graffiti houses of the h...  \n",
        "2  i had a dream  crazy dream  anything i wanted ...  \n",
        "3  leaves are falling all around  it s time i was...  \n",
        "4  it s been a long time since i rock and rolled ...  \n",
        "5  hey  look here  what s all this  there s a car...  "
       ]
      }
     ],
     "prompt_number": 46
    },
    {
     "cell_type": "code",
     "collapsed": false,
     "input": [
      "dataset.loc[1].lyric"
     ],
     "language": "python",
     "metadata": {
      "slideshow": {
       "slide_type": "skip"
      }
     },
     "outputs": [
      {
       "metadata": {},
       "output_type": "pyout",
       "prompt_number": 47,
       "text": [
        "'led zeppelin physical graffiti houses of the holy let me take you to the movies can i take you to the show let me be yours ever truly can i make your garden grow from the houses of the holy we can watch the white doves go from the door comes satan s daughter and it only goes to show ah  you know there s an angel on my shoulder in my hand a sword of gold let me wander in your garden and the seeds of love i ll sow you know whoa oh so the world is spinning faster are you dizzy when you re stoned let the music be your master will you heed the master s call oh whoa oh  satan an  man said there ain t no use in cryin   cause it will only  only drive you mad does it hurt to hear them lyin  was this the only world you had oh oh so let me take you  take you to the movie can i take you  baby  to the show why don t you let me be yours ever truly can i make your garden grow you know whoa  that s right'"
       ]
      }
     ],
     "prompt_number": 47
    },
    {
     "cell_type": "heading",
     "level": 1,
     "metadata": {
      "slideshow": {
       "slide_type": "skip"
      }
     },
     "source": [
      "Feature Extraction"
     ]
    },
    {
     "cell_type": "code",
     "collapsed": false,
     "input": [
      "from sklearn.feature_extraction.text import CountVectorizer\n",
      "cnt_vec = CountVectorizer() # Bag of words"
     ],
     "language": "python",
     "metadata": {
      "slideshow": {
       "slide_type": "skip"
      }
     },
     "outputs": [],
     "prompt_number": 48
    },
    {
     "cell_type": "code",
     "collapsed": false,
     "input": [
      "X = cnt_vec.fit_transform(dataset.lyric)"
     ],
     "language": "python",
     "metadata": {
      "slideshow": {
       "slide_type": "skip"
      }
     },
     "outputs": [],
     "prompt_number": 49
    },
    {
     "cell_type": "code",
     "collapsed": false,
     "input": [
      "X.shape"
     ],
     "language": "python",
     "metadata": {
      "slideshow": {
       "slide_type": "skip"
      }
     },
     "outputs": [
      {
       "metadata": {},
       "output_type": "pyout",
       "prompt_number": 50,
       "text": [
        "(140, 3157)"
       ]
      }
     ],
     "prompt_number": 50
    },
    {
     "cell_type": "code",
     "collapsed": false,
     "input": [
      "X[0,:].toarray()"
     ],
     "language": "python",
     "metadata": {
      "slideshow": {
       "slide_type": "skip"
      }
     },
     "outputs": [
      {
       "metadata": {},
       "output_type": "pyout",
       "prompt_number": 51,
       "text": [
        "array([[0, 0, 0, ..., 0, 1, 0]])"
       ]
      }
     ],
     "prompt_number": 51
    },
    {
     "cell_type": "heading",
     "level": 1,
     "metadata": {
      "slideshow": {
       "slide_type": "skip"
      }
     },
     "source": [
      "Very sparse"
     ]
    },
    {
     "cell_type": "code",
     "collapsed": false,
     "input": [
      "print \"Average non zero features %.0f \" % (X.nnz / X.shape[0])\n",
      "print \"out of %d features\" % X.shape[1]"
     ],
     "language": "python",
     "metadata": {
      "slideshow": {
       "slide_type": "skip"
      }
     },
     "outputs": [
      {
       "output_type": "stream",
       "stream": "stdout",
       "text": [
        "Average non zero features 92 \n",
        "out of 3157 features\n"
       ]
      }
     ],
     "prompt_number": 52
    },
    {
     "cell_type": "markdown",
     "metadata": {
      "slideshow": {
       "slide_type": "skip"
      }
     },
     "source": [
      "# Well, what are our features?"
     ]
    },
    {
     "cell_type": "code",
     "collapsed": false,
     "input": [
      "from operator import itemgetter\n",
      "per_feature_weight_sum = np.sum(X.toarray(), axis=0)\n",
      "\n",
      "weight_feature = zip(per_feature_weight_sum, cnt_vec.get_feature_names())\n",
      "\n",
      "sorted(weight_feature, key=itemgetter(0), reverse=True)[:10] # 10 most common features in all rows"
     ],
     "language": "python",
     "metadata": {
      "slideshow": {
       "slide_type": "skip"
      }
     },
     "outputs": [
      {
       "metadata": {},
       "output_type": "pyout",
       "prompt_number": 53,
       "text": [
        "[(1662, u'you'),\n",
        " (1323, u'the'),\n",
        " (934, u'to'),\n",
        " (847, u'and'),\n",
        " (783, u'me'),\n",
        " (628, u'it'),\n",
        " (485, u'in'),\n",
        " (467, u'that'),\n",
        " (451, u'my'),\n",
        " (419, u'on')]"
       ]
      }
     ],
     "prompt_number": 53
    },
    {
     "cell_type": "markdown",
     "metadata": {
      "slideshow": {
       "slide_type": "skip"
      }
     },
     "source": [
      "# Lets try K-means"
     ]
    },
    {
     "cell_type": "code",
     "collapsed": false,
     "input": [
      "from sklearn.cluster import KMeans\n",
      "k = 3\n",
      "kmeans_model = KMeans(n_clusters=k)\n",
      "kmeans_model.fit(X)"
     ],
     "language": "python",
     "metadata": {
      "slideshow": {
       "slide_type": "skip"
      }
     },
     "outputs": [
      {
       "metadata": {},
       "output_type": "pyout",
       "prompt_number": 54,
       "text": [
        "KMeans(copy_x=True, init='k-means++', max_iter=300, n_clusters=3, n_init=10,\n",
        "    n_jobs=1, precompute_distances=True, random_state=None, tol=0.0001,\n",
        "    verbose=0)"
       ]
      }
     ],
     "prompt_number": 54
    },
    {
     "cell_type": "code",
     "collapsed": false,
     "input": [
      "Y = kmeans_model.labels_\n",
      "print Y.shape\n",
      "print Y"
     ],
     "language": "python",
     "metadata": {
      "slideshow": {
       "slide_type": "skip"
      }
     },
     "outputs": [
      {
       "output_type": "stream",
       "stream": "stdout",
       "text": [
        "(140,)\n",
        "[1 1 1 1 1 1 1 1 1 1 2 1 1 1 1 1 1 1 2 1 2 1 1 1 1 1 1 1 1 1 1 1 1 1 1 2 1\n",
        " 1 1 1 1 1 2 2 1 1 1 1 2 1 1 1 1 1 1 1 1 1 1 1 1 1 1 1 1 1 2 1 1 1 1 1 1 1\n",
        " 1 1 1 1 1 1 1 0 1 1 2 1 1 0 1 1 2 1 1 1 1 1 1 1 1 1 1 1 1 1 2 1 1 1 1 2 1\n",
        " 1 1 1 1 2 1 1 1 2 1 1 1 1 1 2 1 1 1 1 1 1 1 1 1 1 2 1 1 1]\n"
       ]
      }
     ],
     "prompt_number": 55
    },
    {
     "cell_type": "code",
     "collapsed": false,
     "input": [
      "from sklearn.metrics.cluster import silhouette_score\n",
      "silhouette_score(X, Y)"
     ],
     "language": "python",
     "metadata": {
      "slideshow": {
       "slide_type": "skip"
      }
     },
     "outputs": [
      {
       "metadata": {},
       "output_type": "pyout",
       "prompt_number": 56,
       "text": [
        "0.24755039759800951"
       ]
      }
     ],
     "prompt_number": 56
    },
    {
     "cell_type": "heading",
     "level": 1,
     "metadata": {
      "slideshow": {
       "slide_type": "skip"
      }
     },
     "source": [
      "Jump directly to hierarchical clustering"
     ]
    },
    {
     "cell_type": "code",
     "collapsed": false,
     "input": [
      "from scipy.spatial.distance import pdist\n",
      "from scipy.cluster.hierarchy import dendrogram, linkage\n",
      "\n",
      "D = pdist(X.toarray(), metric='cosine')\n",
      "Z = linkage(D, method='complete', metric='euclidean')\n",
      "\n",
      "dendro = dendrogram(Z)"
     ],
     "language": "python",
     "metadata": {
      "slideshow": {
       "slide_type": "skip"
      }
     },
     "outputs": [
      {
       "metadata": {},
       "output_type": "display_data",
       "png": "[encoded data removed]",
       "text": [
        "<matplotlib.figure.Figure at 0x7f5721bb6f50>"
       ]
      }
     ],
     "prompt_number": 57
    },
    {
     "cell_type": "code",
     "collapsed": false,
     "input": [
      "from scipy.cluster.hierarchy import fcluster\n",
      "Y = fcluster(Z, 0.95, criterion='distance')\n",
      "print len(np.unique(Y))"
     ],
     "language": "python",
     "metadata": {},
     "outputs": [
      {
       "output_type": "stream",
       "stream": "stdout",
       "text": [
        "9\n"
       ]
      }
     ],
     "prompt_number": 58
    },
    {
     "cell_type": "code",
     "collapsed": false,
     "input": [
      "silhouette_score(X, Y)"
     ],
     "language": "python",
     "metadata": {},
     "outputs": [
      {
       "metadata": {},
       "output_type": "pyout",
       "prompt_number": 59,
       "text": [
        "-0.21133905101768244"
       ]
      }
     ],
     "prompt_number": 59
    },
    {
     "cell_type": "markdown",
     "metadata": {},
     "source": [
      "# Scikit-learns toy dataset"
     ]
    },
    {
     "cell_type": "code",
     "collapsed": false,
     "input": [
      "from sklearn.feature_extraction.text import TfidfVectorizer\n",
      "from sklearn.datasets import fetch_20newsgroups\n",
      "\n",
      "vectorizer = TfidfVectorizer(max_df=0.5,\n",
      "                             min_df=2, \n",
      "                             stop_words='english',\n",
      "                             use_idf=True)\n",
      "categories = [\n",
      "    'alt.atheism',\n",
      "    'talk.religion.misc',\n",
      "    'comp.graphics',\n",
      "    'sci.space',\n",
      "]\n",
      "\n",
      "dataset = fetch_20newsgroups(subset='all',\n",
      "                             shuffle=True,\n",
      "                             categories=categories,\n",
      "                             random_state=42)\n",
      "labels = dataset.target\n",
      "real_k = np.unique(labels).shape[0]\n",
      "\n",
      "X = vectorizer.fit_transform(dataset.data)\n",
      "\n",
      "km = KMeans(n_clusters=real_k, init='k-means++', max_iter=100, n_init=1)"
     ],
     "language": "python",
     "metadata": {},
     "outputs": [],
     "prompt_number": 60
    },
    {
     "cell_type": "code",
     "collapsed": false,
     "input": [
      "km.fit(X)"
     ],
     "language": "python",
     "metadata": {},
     "outputs": [
      {
       "metadata": {},
       "output_type": "pyout",
       "prompt_number": 61,
       "text": [
        "KMeans(copy_x=True, init='k-means++', max_iter=100, n_clusters=4, n_init=1,\n",
        "    n_jobs=1, precompute_distances=True, random_state=None, tol=0.0001,\n",
        "    verbose=0)"
       ]
      }
     ],
     "prompt_number": 61
    },
    {
     "cell_type": "code",
     "collapsed": false,
     "input": [
      "np.unique(km.labels_)"
     ],
     "language": "python",
     "metadata": {},
     "outputs": [
      {
       "metadata": {},
       "output_type": "pyout",
       "prompt_number": 62,
       "text": [
        "array([0, 1, 2, 3], dtype=int32)"
       ]
      }
     ],
     "prompt_number": 62
    },
    {
     "cell_type": "code",
     "collapsed": false,
     "input": [
      "from sklearn import metrics\n",
      "print(\"Homogeneity: %0.3f\" % metrics.homogeneity_score(labels, km.labels_))\n",
      "print(\"Completeness: %0.3f\" % metrics.completeness_score(labels, km.labels_))\n",
      "print(\"V-measure: %0.3f\" % metrics.v_measure_score(labels, km.labels_))\n",
      "print(\"Adjusted Rand-Index: %.3f\"\n",
      "      % metrics.adjusted_rand_score(labels, km.labels_))\n",
      "print(\"Silhouette Coefficient: %0.3f\"\n",
      "      % metrics.silhouette_score(X, labels))"
     ],
     "language": "python",
     "metadata": {},
     "outputs": [
      {
       "output_type": "stream",
       "stream": "stdout",
       "text": [
        "Homogeneity: 0.353\n",
        "Completeness: 0.556\n",
        "V-measure: 0.432\n",
        "Adjusted Rand-Index: 0.340\n",
        "Silhouette Coefficient: 0.006"
       ]
      },
      {
       "output_type": "stream",
       "stream": "stdout",
       "text": [
        "\n"
       ]
      }
     ],
     "prompt_number": 63
    },
    {
     "cell_type": "code",
     "collapsed": false,
     "input": [
      "from nltk import word_tokenize\n",
      "from nltk.stem.snowball import SnowballStemmer\n",
      "\n",
      "class NLTKStemmer(object):\n",
      "    def __init__(self):\n",
      "        self.snowball = SnowballStemmer('english')\n",
      "    \n",
      "    def __call__(self, doc):\n",
      "        return [self.snowball.stem(t) for t in word_tokenize(doc) if len(t) >= 2]\n",
      "    \n",
      "    \n",
      "    \n",
      "from sklearn.feature_extraction.text import TfidfVectorizer \n",
      "cnt_vec = CountVectorizer(tokenizer=NLTKStemmer(),\n",
      "                          stop_words='english')\n",
      "X = cnt_vec.fit_transform(dataset.lyric)\n",
      "print X.shape"
     ],
     "language": "python",
     "metadata": {
      "slideshow": {
       "slide_type": "slide"
      }
     },
     "outputs": [
      {
       "ename": "AttributeError",
       "evalue": "'Bunch' object has no attribute 'lyric'",
       "output_type": "pyerr",
       "traceback": [
        "\u001b[1;31m---------------------------------------------------------------------------\u001b[0m\n\u001b[1;31mAttributeError\u001b[0m                            Traceback (most recent call last)",
        "\u001b[1;32m<ipython-input-64-d0bb9dff7a59>\u001b[0m in \u001b[0;36m<module>\u001b[1;34m()\u001b[0m\n\u001b[0;32m     14\u001b[0m cnt_vec = CountVectorizer(tokenizer=NLTKStemmer(),\n\u001b[0;32m     15\u001b[0m                           stop_words='english')\n\u001b[1;32m---> 16\u001b[1;33m \u001b[0mX\u001b[0m \u001b[1;33m=\u001b[0m \u001b[0mcnt_vec\u001b[0m\u001b[1;33m.\u001b[0m\u001b[0mfit_transform\u001b[0m\u001b[1;33m(\u001b[0m\u001b[0mdataset\u001b[0m\u001b[1;33m.\u001b[0m\u001b[0mlyric\u001b[0m\u001b[1;33m)\u001b[0m\u001b[1;33m\u001b[0m\u001b[0m\n\u001b[0m\u001b[0;32m     17\u001b[0m \u001b[1;32mprint\u001b[0m \u001b[0mX\u001b[0m\u001b[1;33m.\u001b[0m\u001b[0mshape\u001b[0m\u001b[1;33m\u001b[0m\u001b[0m\n",
        "\u001b[1;31mAttributeError\u001b[0m: 'Bunch' object has no attribute 'lyric'"
       ]
      }
     ],
     "prompt_number": 64
    }
   ],
   "metadata": {}
  }
 ]
}